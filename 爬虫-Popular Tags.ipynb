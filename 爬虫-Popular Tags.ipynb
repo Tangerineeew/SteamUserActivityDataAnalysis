{
 "cells": [
  {
   "cell_type": "code",
   "execution_count": 2,
   "metadata": {},
   "outputs": [],
   "source": [
    "#导入包(PypI)\n",
    "import os\n",
    "import pymongo\n",
    "import requests\n",
    "from lxml import etree\n",
    "import pandas as pd\n",
    "import time\n",
    "import random\n",
    "import asyncio\n",
    "import json"
   ]
  },
  {
   "cell_type": "code",
   "execution_count": 7,
   "metadata": {},
   "outputs": [],
   "source": [
    "#连接MongoDB\n",
    "myclient=pymongo.MongoClient(\"mongodb://localhost:27017/\")\n",
    "mydb=myclient[\"Steam平台用户活跃数据\"]#进行操作的库名\n",
    "mycol=mydb[\"MostPlayedGamesTop500\"]#进行操作的集合名"
   ]
  },
  {
   "cell_type": "code",
   "execution_count": 8,
   "metadata": {},
   "outputs": [
    {
     "data": {
      "text/html": [
       "<div>\n",
       "<style scoped>\n",
       "    .dataframe tbody tr th:only-of-type {\n",
       "        vertical-align: middle;\n",
       "    }\n",
       "\n",
       "    .dataframe tbody tr th {\n",
       "        vertical-align: top;\n",
       "    }\n",
       "\n",
       "    .dataframe thead th {\n",
       "        text-align: right;\n",
       "    }\n",
       "</style>\n",
       "<table border=\"1\" class=\"dataframe\">\n",
       "  <thead>\n",
       "    <tr style=\"text-align: right;\">\n",
       "      <th></th>\n",
       "      <th>_id</th>\n",
       "      <th>ID</th>\n",
       "      <th>name(Chinese)</th>\n",
       "      <th>top_players</th>\n",
       "    </tr>\n",
       "  </thead>\n",
       "  <tbody>\n",
       "    <tr>\n",
       "      <th>0</th>\n",
       "      <td>64560396ed21cfd4942fa0b5</td>\n",
       "      <td>578080</td>\n",
       "      <td>绝地求生</td>\n",
       "      <td>3236027</td>\n",
       "    </tr>\n",
       "    <tr>\n",
       "      <th>1</th>\n",
       "      <td>64560396ed21cfd4942fa0b6</td>\n",
       "      <td>730</td>\n",
       "      <td>反恐精英：全球攻势</td>\n",
       "      <td>1533939</td>\n",
       "    </tr>\n",
       "    <tr>\n",
       "      <th>2</th>\n",
       "      <td>64560396ed21cfd4942fa0b7</td>\n",
       "      <td>570</td>\n",
       "      <td>刀塔2</td>\n",
       "      <td>1291328</td>\n",
       "    </tr>\n",
       "    <tr>\n",
       "      <th>3</th>\n",
       "      <td>64560396ed21cfd4942fa0b8</td>\n",
       "      <td>1599340</td>\n",
       "      <td>Lost Ark</td>\n",
       "      <td>1174722</td>\n",
       "    </tr>\n",
       "    <tr>\n",
       "      <th>4</th>\n",
       "      <td>64560396ed21cfd4942fa0b9</td>\n",
       "      <td>1091500</td>\n",
       "      <td>赛博朋克 2077</td>\n",
       "      <td>1041355</td>\n",
       "    </tr>\n",
       "  </tbody>\n",
       "</table>\n",
       "</div>"
      ],
      "text/plain": [
       "                        _id       ID name(Chinese) top_players\n",
       "0  64560396ed21cfd4942fa0b5   578080          绝地求生     3236027\n",
       "1  64560396ed21cfd4942fa0b6      730     反恐精英：全球攻势     1533939\n",
       "2  64560396ed21cfd4942fa0b7      570           刀塔2     1291328\n",
       "3  64560396ed21cfd4942fa0b8  1599340      Lost Ark     1174722\n",
       "4  64560396ed21cfd4942fa0b9  1091500     赛博朋克 2077     1041355"
      ]
     },
     "execution_count": 8,
     "metadata": {},
     "output_type": "execute_result"
    }
   ],
   "source": [
    "data=[]\n",
    "for doc in mycol.find():\n",
    "    data.append(doc)\n",
    "df=pd.DataFrame(data)\n",
    "df.head()"
   ]
  },
  {
   "cell_type": "code",
   "execution_count": 9,
   "metadata": {},
   "outputs": [
    {
     "data": {
      "text/plain": [
       "500"
      ]
     },
     "execution_count": 9,
     "metadata": {},
     "output_type": "execute_result"
    }
   ],
   "source": [
    "link=[]\n",
    "for i in range(len(df['ID'])):\n",
    "    link.append(\"https://store.steampowered.com/app/\"+str(df['ID'][i]))\n",
    "len(link)"
   ]
  },
  {
   "cell_type": "code",
   "execution_count": 10,
   "metadata": {},
   "outputs": [
    {
     "name": "stdout",
     "output_type": "stream",
     "text": [
      "500\n"
     ]
    }
   ],
   "source": [
    "game_info=[]\n",
    "wait_time=random.uniform(3,5)#生成随机等待时间\n",
    "for l in link:\n",
    "    try:\n",
    "        response=requests.get(l)\n",
    "        response.raise_for_status()#检查是否有错误的响应码\n",
    "        html=etree.HTML(response.content)\n",
    "        name=''\n",
    "        try:\n",
    "            name=html.xpath('//*[@id=\"genresAndManufacturer\"]/text()[normalize-space()]')[0]\n",
    "        except:\n",
    "            pass\n",
    "        tags=[]\n",
    "        try:\n",
    "            tags=html.xpath('//*[@id=\"genresAndManufacturer\"]/span/a/text()')\n",
    "            tags=', '.join(tags)\n",
    "        except:\n",
    "            pass\n",
    "        languages=[]\n",
    "        try:\n",
    "            languages=html.xpath('//table[@class=\"game_language_options\"]//td[1]/text()')\n",
    "            languages=[lang.strip() for lang in languages]#使用strip()方法去除每个元素中的换行符、制表符和空格\n",
    "            languages=', '.join(languages)\n",
    "        except:\n",
    "            pass\n",
    "        developer=''\n",
    "        try:\n",
    "            developer=html.xpath('//*[@id=\"genresAndManufacturer\"]/div[1]/a/text()')\n",
    "        except:\n",
    "            pass\n",
    "        publisher=''\n",
    "        try:\n",
    "            publisher=html.xpath('//*[@id=\"genresAndManufacturer\"]/div[2]/a/text()')\n",
    "        except:\n",
    "            pass\n",
    "        release_date=''\n",
    "        try:\n",
    "            release_date=html.xpath('//*[@id=\"game_highlights\"]/div[1]/div/div[3]/div[2]/div[2]/text()')\n",
    "        except:\n",
    "            pass\n",
    "        game_info.append({\n",
    "            'name(English)': name,\n",
    "            'tags': tags,\n",
    "            'languages': languages,\n",
    "            'developer': developer,\n",
    "            'publisher': publisher,\n",
    "            'release_date': release_date\n",
    "        })\n",
    "        time.sleep(wait_time)#请求延迟时间\n",
    "    except requests.exceptions.HTTPError as errh:\n",
    "        print(\"Http Error:\",errh)\n",
    "    except requests.exceptions.ConnectionError as errc:\n",
    "        print(\"Error Connecting:\",errc)\n",
    "    except requests.exceptions.Timeout as errt:\n",
    "        print(\"Timeout Error:\",errt)\n",
    "    except requests.exceptions.RequestException as err:\n",
    "        print(\"Something went wrong:\",err)\n",
    "\n",
    "game_df=pd.DataFrame(game_info)\n",
    "game_df=game_df.fillna('')#将空值填充为''\n",
    "print(len(game_df))"
   ]
  },
  {
   "cell_type": "code",
   "execution_count": 1,
   "metadata": {},
   "outputs": [
    {
     "ename": "NameError",
     "evalue": "name 'pd' is not defined",
     "output_type": "error",
     "traceback": [
      "\u001b[1;31m---------------------------------------------------------------------------\u001b[0m",
      "\u001b[1;31mNameError\u001b[0m                                 Traceback (most recent call last)",
      "Cell \u001b[1;32mIn[1], line 1\u001b[0m\n\u001b[1;32m----> 1\u001b[0m game_df\u001b[39m=\u001b[39mpd\u001b[39m.\u001b[39mDataFrame(game_info)\n\u001b[0;32m      2\u001b[0m game_df\u001b[39m=\u001b[39mgame_df\u001b[39m.\u001b[39mfillna(\u001b[39m'\u001b[39m\u001b[39m'\u001b[39m)\u001b[39m#将空值填充为''\u001b[39;00m\n\u001b[0;32m      3\u001b[0m game_df[\u001b[39m'\u001b[39m\u001b[39mID\u001b[39m\u001b[39m'\u001b[39m]\u001b[39m=\u001b[39mdf[\u001b[39m'\u001b[39m\u001b[39mID\u001b[39m\u001b[39m'\u001b[39m]\n",
      "\u001b[1;31mNameError\u001b[0m: name 'pd' is not defined"
     ]
    }
   ],
   "source": [
    "game_df=pd.DataFrame(game_info)\n",
    "game_df=game_df.fillna('')#将空值填充为''\n",
    "game_df['ID']=df['ID']\n",
    "game_df['name(Chinese)']=df['name(Chinese)']\n",
    "game_df['top_players']=df['top_players']\n",
    "game_df['developer']=game_df['developer'].astype(str).str.replace(\"['\", \"\").str.replace(\"']\", \"\").str.replace(\"[]\", \"\")\n",
    "game_df['publisher']=game_df['publisher'].astype(str).str.replace(\"['\", \"\").str.replace(\"']\", \"\").str.replace(\"[]\", \"\")\n",
    "game_df['release_date']=game_df['release_date'].astype(str).str.replace(\"['\", \"\").str.replace(\"']\", \"\").str.replace(\"[]\", \"\")\n",
    "game_df=game_df.reindex(columns=['ID','name(English)','name(Chinese)','tags','languages','top_players','developer','publisher','release_date'])\n",
    "print(len(game_df))\n",
    "game_df.head()"
   ]
  },
  {
   "cell_type": "code",
   "execution_count": 12,
   "metadata": {},
   "outputs": [
    {
     "data": {
      "text/plain": [
       "<pymongo.results.InsertManyResult at 0x25a4eb28fd0>"
      ]
     },
     "execution_count": 12,
     "metadata": {},
     "output_type": "execute_result"
    }
   ],
   "source": [
    "#更新MongoDB的Steam平台用户活跃数据.MostPlayedGamesTop500DetailedInformation\n",
    "mycol=mydb[\"MostPlayedGamesTop500DetailedInformation\"]\n",
    "game_dict=game_df.to_dict('records')\n",
    "mycol.insert_many(game_dict)"
   ]
  }
 ],
 "metadata": {
  "kernelspec": {
   "display_name": "Python 3 (ipykernel)",
   "language": "python",
   "name": "python3"
  },
  "language_info": {
   "codemirror_mode": {
    "name": "ipython",
    "version": 3
   },
   "file_extension": ".py",
   "mimetype": "text/x-python",
   "name": "python",
   "nbconvert_exporter": "python",
   "pygments_lexer": "ipython3",
   "version": "3.11.0"
  },
  "orig_nbformat": 4
 },
 "nbformat": 4,
 "nbformat_minor": 2
}
