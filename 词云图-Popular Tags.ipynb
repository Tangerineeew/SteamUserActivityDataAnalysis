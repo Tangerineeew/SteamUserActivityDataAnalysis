{
 "cells": [
  {
   "cell_type": "code",
   "execution_count": 1,
   "metadata": {},
   "outputs": [],
   "source": [
    "#导入包(PyPI)\n",
    "import pymongo\n",
    "import pandas as pd\n",
    "import re\n",
    "import jieba\n",
    "import os\n",
    "from PIL import Image\n",
    "import numpy as np\n",
    "from wordcloud import WordCloud\n",
    "from wordcloud import ImageColorGenerator\n",
    "import matplotlib.pyplot as plt"
   ]
  },
  {
   "cell_type": "code",
   "execution_count": 2,
   "metadata": {},
   "outputs": [],
   "source": [
    "#连接MongoDB\n",
    "myclient=pymongo.MongoClient(\"mongodb://localhost:27017/\")\n",
    "mydb=myclient[\"Steam平台用户活跃数据\"]#进行操作的库名\n",
    "mycol=mydb[\"MostPlayedGamesTop100DetailedInformation\"]#进行操作的集合名"
   ]
  },
  {
   "cell_type": "code",
   "execution_count": 3,
   "metadata": {},
   "outputs": [
    {
     "data": {
      "text/html": [
       "<div>\n",
       "<style scoped>\n",
       "    .dataframe tbody tr th:only-of-type {\n",
       "        vertical-align: middle;\n",
       "    }\n",
       "\n",
       "    .dataframe tbody tr th {\n",
       "        vertical-align: top;\n",
       "    }\n",
       "\n",
       "    .dataframe thead th {\n",
       "        text-align: right;\n",
       "    }\n",
       "</style>\n",
       "<table border=\"1\" class=\"dataframe\">\n",
       "  <thead>\n",
       "    <tr style=\"text-align: right;\">\n",
       "      <th></th>\n",
       "      <th>_id</th>\n",
       "      <th>ID</th>\n",
       "      <th>name(English)</th>\n",
       "      <th>name(Chinese)</th>\n",
       "      <th>tags</th>\n",
       "      <th>languages</th>\n",
       "      <th>top_players</th>\n",
       "      <th>developer</th>\n",
       "      <th>publisher</th>\n",
       "      <th>release_date</th>\n",
       "    </tr>\n",
       "  </thead>\n",
       "  <tbody>\n",
       "    <tr>\n",
       "      <th>0</th>\n",
       "      <td>6456437a69698b838ca3da87</td>\n",
       "      <td>578080</td>\n",
       "      <td>PUBG: BATTLEGROUNDS</td>\n",
       "      <td>绝地求生</td>\n",
       "      <td>Action, Adventure, Free to Play, Massively Mul...</td>\n",
       "      <td>English, Korean, Simplified Chinese, French, G...</td>\n",
       "      <td>3236027</td>\n",
       "      <td>KRAFTON, Inc.</td>\n",
       "      <td>KRAFTON, Inc.</td>\n",
       "      <td>21 Dec, 2017</td>\n",
       "    </tr>\n",
       "    <tr>\n",
       "      <th>1</th>\n",
       "      <td>6456437a69698b838ca3da88</td>\n",
       "      <td>730</td>\n",
       "      <td>Counter-Strike: Global Offensive</td>\n",
       "      <td>反恐精英：全球攻势</td>\n",
       "      <td>Action, Free to Play</td>\n",
       "      <td>English, Czech, Danish, Dutch, Finnish, French...</td>\n",
       "      <td>1533939</td>\n",
       "      <td>Valve', 'Hidden Path Entertainment</td>\n",
       "      <td>Valve</td>\n",
       "      <td>21 Aug, 2012</td>\n",
       "    </tr>\n",
       "    <tr>\n",
       "      <th>2</th>\n",
       "      <td>6456437a69698b838ca3da89</td>\n",
       "      <td>570</td>\n",
       "      <td>Dota 2</td>\n",
       "      <td>刀塔2</td>\n",
       "      <td>Action, Free to Play, Strategy</td>\n",
       "      <td>English, Bulgarian, Czech, Danish, Dutch, Finn...</td>\n",
       "      <td>1291328</td>\n",
       "      <td>Valve</td>\n",
       "      <td>Valve</td>\n",
       "      <td>9 Jul, 2013</td>\n",
       "    </tr>\n",
       "    <tr>\n",
       "      <th>3</th>\n",
       "      <td>6456437a69698b838ca3da8a</td>\n",
       "      <td>1599340</td>\n",
       "      <td>Lost Ark</td>\n",
       "      <td>Lost Ark</td>\n",
       "      <td>Action, Adventure, Free to Play, Massively Mul...</td>\n",
       "      <td>English, French, German, Spanish - Spain</td>\n",
       "      <td>1174722</td>\n",
       "      <td>Smilegate RPG</td>\n",
       "      <td>Amazon Games</td>\n",
       "      <td>11 Feb, 2022</td>\n",
       "    </tr>\n",
       "    <tr>\n",
       "      <th>4</th>\n",
       "      <td>6456437a69698b838ca3da8b</td>\n",
       "      <td>1091500</td>\n",
       "      <td>Cyberpunk 2077</td>\n",
       "      <td>赛博朋克 2077</td>\n",
       "      <td>RPG</td>\n",
       "      <td>English, French, Italian, German, Spanish - Sp...</td>\n",
       "      <td>1041355</td>\n",
       "      <td>CD PROJEKT RED</td>\n",
       "      <td>CD PROJEKT RED</td>\n",
       "      <td>9 Dec, 2020</td>\n",
       "    </tr>\n",
       "  </tbody>\n",
       "</table>\n",
       "</div>"
      ],
      "text/plain": [
       "                        _id       ID                      name(English)   \n",
       "0  6456437a69698b838ca3da87   578080                PUBG: BATTLEGROUNDS  \\\n",
       "1  6456437a69698b838ca3da88      730   Counter-Strike: Global Offensive   \n",
       "2  6456437a69698b838ca3da89      570                             Dota 2   \n",
       "3  6456437a69698b838ca3da8a  1599340                           Lost Ark   \n",
       "4  6456437a69698b838ca3da8b  1091500                     Cyberpunk 2077   \n",
       "\n",
       "  name(Chinese)                                               tags   \n",
       "0          绝地求生  Action, Adventure, Free to Play, Massively Mul...  \\\n",
       "1     反恐精英：全球攻势                               Action, Free to Play   \n",
       "2           刀塔2                     Action, Free to Play, Strategy   \n",
       "3      Lost Ark  Action, Adventure, Free to Play, Massively Mul...   \n",
       "4     赛博朋克 2077                                                RPG   \n",
       "\n",
       "                                           languages top_players   \n",
       "0  English, Korean, Simplified Chinese, French, G...     3236027  \\\n",
       "1  English, Czech, Danish, Dutch, Finnish, French...     1533939   \n",
       "2  English, Bulgarian, Czech, Danish, Dutch, Finn...     1291328   \n",
       "3           English, French, German, Spanish - Spain     1174722   \n",
       "4  English, French, Italian, German, Spanish - Sp...     1041355   \n",
       "\n",
       "                            developer       publisher  release_date  \n",
       "0                       KRAFTON, Inc.   KRAFTON, Inc.  21 Dec, 2017  \n",
       "1  Valve', 'Hidden Path Entertainment           Valve  21 Aug, 2012  \n",
       "2                               Valve           Valve   9 Jul, 2013  \n",
       "3                       Smilegate RPG    Amazon Games  11 Feb, 2022  \n",
       "4                      CD PROJEKT RED  CD PROJEKT RED   9 Dec, 2020  "
      ]
     },
     "execution_count": 3,
     "metadata": {},
     "output_type": "execute_result"
    }
   ],
   "source": [
    "data=[]\n",
    "for doc in mycol.find():\n",
    "    data.append(doc)\n",
    "df=pd.DataFrame(data)\n",
    "df.head()"
   ]
  },
  {
   "cell_type": "code",
   "execution_count": 4,
   "metadata": {},
   "outputs": [
    {
     "name": "stderr",
     "output_type": "stream",
     "text": [
      "Building prefix dict from the default dictionary ...\n",
      "Loading model from cache C:\\Users\\Casket-\\AppData\\Local\\Temp\\jieba.cache\n",
      "Loading model cost 0.506 seconds.\n",
      "Prefix dict has been built successfully.\n"
     ]
    },
    {
     "data": {
      "text/plain": [
       "{'Action': 297,\n",
       " 'Adventure': 179,\n",
       " 'Free': 74,\n",
       " 'Massively': 55,\n",
       " 'Multiplayer': 55,\n",
       " 'Strategy': 127,\n",
       " 'RPG': 153,\n",
       " 'Casual': 58,\n",
       " 'Indie': 176,\n",
       " 'Early': 44,\n",
       " 'Access': 44,\n",
       " 'Simulation': 117,\n",
       " 'Sports': 35,\n",
       " 'Racing': 16,\n",
       " 'Animation': 1,\n",
       " 'Modeling': 1,\n",
       " 'Design': 1,\n",
       " 'Illustration': 1,\n",
       " 'Photo': 1,\n",
       " 'Editing': 1,\n",
       " 'Utilities': 2,\n",
       " 'Audio': 1,\n",
       " 'Production': 1}"
      ]
     },
     "execution_count": 4,
     "metadata": {},
     "output_type": "execute_result"
    }
   ],
   "source": [
    "tags_str=','.join(df['tags'].tolist())\n",
    "tags_list=jieba.lcut(tags_str)\n",
    "def filter_tags(tag):\n",
    "    if tag in [',', ' ', '&']:\n",
    "        return False\n",
    "    elif tag in ['to', 'Play']:\n",
    "        return False\n",
    "    else:\n",
    "        return True\n",
    "tags_list=list(filter(filter_tags,tags_list))\n",
    "tags_dict={}\n",
    "for tag in tags_list:\n",
    "    if tag not in tags_dict:\n",
    "        tags_dict[tag]=1\n",
    "    else:\n",
    "        tags_dict[tag]+=1\n",
    "tags_dict"
   ]
  },
  {
   "cell_type": "code",
   "execution_count": 5,
   "metadata": {},
   "outputs": [
    {
     "data": {
      "image/png": "[encoded data removed]",
      "text/plain": [
       "<Figure size 640x480 with 1 Axes>"
      ]
     },
     "metadata": {},
     "output_type": "display_data"
    }
   ],
   "source": [
    "#绘制词云图\n",
    "path=\"D:/学习教育/数据可视化/大作业/Popular Tags/\"\n",
    "os.chdir(path)\n",
    "background_image=Image.open(os.path.join(path,'Steam.png'))\n",
    "background_array=np.array(background_image)\n",
    "image_colors=ImageColorGenerator(background_array)\n",
    "wordcloud=WordCloud(font_path='simhei.ttf',background_color=\"white\",mask=background_array)\n",
    "wordcloud.generate_from_frequencies(tags_dict)\n",
    "#将词云图与原始图像合并\n",
    "plt.imshow(wordcloud.recolor(color_func=image_colors),interpolation='bilinear')\n",
    "plt.title(\"Pupular Tags\")\n",
    "plt.axis('off')\n",
    "plt.savefig(os.path.join(path,'词云图-Popular Tags.png'),dpi=600)\n",
    "plt.show()"
   ]
  }
 ],
 "metadata": {
  "kernelspec": {
   "display_name": "Python 3 (ipykernel)",
   "language": "python",
   "name": "python3"
  },
  "language_info": {
   "codemirror_mode": {
    "name": "ipython",
    "version": 3
   },
   "file_extension": ".py",
   "mimetype": "text/x-python",
   "name": "python",
   "nbconvert_exporter": "python",
   "pygments_lexer": "ipython3",
   "version": "3.9.13"
  },
  "orig_nbformat": 4
 },
 "nbformat": 4,
 "nbformat_minor": 2
}
